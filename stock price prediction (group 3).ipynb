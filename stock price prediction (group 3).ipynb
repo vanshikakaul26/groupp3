{
 "cells": [
  {
   "cell_type": "code",
   "execution_count": 1,
   "id": "5747b7a7",
   "metadata": {},
   "outputs": [],
   "source": [
    "#Stock Price Prediction"
   ]
  },
  {
   "cell_type": "code",
   "execution_count": 2,
   "id": "aff6969b",
   "metadata": {},
   "outputs": [],
   "source": [
    "import pandas as pd\n",
    "import numpy as np\n",
    "import matplotlib.pyplot as plt"
   ]
  },
  {
   "cell_type": "code",
   "execution_count": 3,
   "id": "b25bd847",
   "metadata": {},
   "outputs": [
    {
     "name": "stdout",
     "output_type": "stream",
     "text": [
      "Requirement already satisfied: yfinance in c:\\users\\asus\\anaconda3\\new folder (2)\\lib\\site-packages (0.2.41)\n",
      "Requirement already satisfied: frozendict>=2.3.4 in c:\\users\\asus\\anaconda3\\new folder (2)\\lib\\site-packages (from yfinance) (2.4.4)\n",
      "Requirement already satisfied: peewee>=3.16.2 in c:\\users\\asus\\anaconda3\\new folder (2)\\lib\\site-packages (from yfinance) (3.17.6)\n",
      "Requirement already satisfied: platformdirs>=2.0.0 in c:\\users\\asus\\anaconda3\\new folder (2)\\lib\\site-packages (from yfinance) (2.5.2)\n",
      "Requirement already satisfied: requests>=2.31 in c:\\users\\asus\\anaconda3\\new folder (2)\\lib\\site-packages (from yfinance) (2.32.3)\n",
      "Requirement already satisfied: pytz>=2022.5 in c:\\users\\asus\\anaconda3\\new folder (2)\\lib\\site-packages (from yfinance) (2022.7)\n",
      "Requirement already satisfied: pandas>=1.3.0 in c:\\users\\asus\\anaconda3\\new folder (2)\\lib\\site-packages (from yfinance) (1.5.3)\n",
      "Requirement already satisfied: beautifulsoup4>=4.11.1 in c:\\users\\asus\\anaconda3\\new folder (2)\\lib\\site-packages (from yfinance) (4.11.1)\n",
      "Requirement already satisfied: html5lib>=1.1 in c:\\users\\asus\\anaconda3\\new folder (2)\\lib\\site-packages (from yfinance) (1.1)\n",
      "Requirement already satisfied: lxml>=4.9.1 in c:\\users\\asus\\anaconda3\\new folder (2)\\lib\\site-packages (from yfinance) (4.9.1)\n",
      "Requirement already satisfied: multitasking>=0.0.7 in c:\\users\\asus\\anaconda3\\new folder (2)\\lib\\site-packages (from yfinance) (0.0.11)\n",
      "Requirement already satisfied: numpy>=1.16.5 in c:\\users\\asus\\anaconda3\\new folder (2)\\lib\\site-packages (from yfinance) (1.23.5)\n",
      "Requirement already satisfied: soupsieve>1.2 in c:\\users\\asus\\anaconda3\\new folder (2)\\lib\\site-packages (from beautifulsoup4>=4.11.1->yfinance) (2.3.2.post1)\n",
      "Requirement already satisfied: six>=1.9 in c:\\users\\asus\\anaconda3\\new folder (2)\\lib\\site-packages (from html5lib>=1.1->yfinance) (1.16.0)\n",
      "Requirement already satisfied: webencodings in c:\\users\\asus\\anaconda3\\new folder (2)\\lib\\site-packages (from html5lib>=1.1->yfinance) (0.5.1)\n",
      "Requirement already satisfied: python-dateutil>=2.8.1 in c:\\users\\asus\\anaconda3\\new folder (2)\\lib\\site-packages (from pandas>=1.3.0->yfinance) (2.8.2)\n",
      "Requirement already satisfied: charset-normalizer<4,>=2 in c:\\users\\asus\\anaconda3\\new folder (2)\\lib\\site-packages (from requests>=2.31->yfinance) (2.0.4)\n",
      "Requirement already satisfied: urllib3<3,>=1.21.1 in c:\\users\\asus\\anaconda3\\new folder (2)\\lib\\site-packages (from requests>=2.31->yfinance) (1.26.14)\n",
      "Requirement already satisfied: certifi>=2017.4.17 in c:\\users\\asus\\anaconda3\\new folder (2)\\lib\\site-packages (from requests>=2.31->yfinance) (2023.5.7)\n",
      "Requirement already satisfied: idna<4,>=2.5 in c:\\users\\asus\\anaconda3\\new folder (2)\\lib\\site-packages (from requests>=2.31->yfinance) (3.4)\n",
      "Note: you may need to restart the kernel to use updated packages.\n"
     ]
    }
   ],
   "source": [
    "pip install yfinance"
   ]
  },
  {
   "cell_type": "code",
   "execution_count": 4,
   "id": "e8db8f48",
   "metadata": {},
   "outputs": [
    {
     "name": "stderr",
     "output_type": "stream",
     "text": [
      "[*********************100%%**********************]  1 of 1 completed\n"
     ]
    }
   ],
   "source": [
    "import yfinance as yf\n",
    "\n",
    "# Download Tesla stock data\n",
    "data = yf.download('TSLA', start='2010-01-01', end='2023-01-01')\n",
    "data.to_csv('tesla_stock_data.csv')\n"
   ]
  },
  {
   "cell_type": "code",
   "execution_count": 5,
   "id": "03659d79",
   "metadata": {},
   "outputs": [],
   "source": [
    "data=pd.read_csv(r\"C:\\Users\\asus\\Downloads\\tesla-stock-price.csv\")"
   ]
  },
  {
   "cell_type": "code",
   "execution_count": 6,
   "id": "da82b572",
   "metadata": {},
   "outputs": [
    {
     "data": {
      "text/html": [
       "<div>\n",
       "<style scoped>\n",
       "    .dataframe tbody tr th:only-of-type {\n",
       "        vertical-align: middle;\n",
       "    }\n",
       "\n",
       "    .dataframe tbody tr th {\n",
       "        vertical-align: top;\n",
       "    }\n",
       "\n",
       "    .dataframe thead th {\n",
       "        text-align: right;\n",
       "    }\n",
       "</style>\n",
       "<table border=\"1\" class=\"dataframe\">\n",
       "  <thead>\n",
       "    <tr style=\"text-align: right;\">\n",
       "      <th></th>\n",
       "      <th>date</th>\n",
       "      <th>close</th>\n",
       "      <th>volume</th>\n",
       "      <th>open</th>\n",
       "      <th>high</th>\n",
       "      <th>low</th>\n",
       "    </tr>\n",
       "  </thead>\n",
       "  <tbody>\n",
       "    <tr>\n",
       "      <th>0</th>\n",
       "      <td>11:34</td>\n",
       "      <td>270.49</td>\n",
       "      <td>4,787,699</td>\n",
       "      <td>264.50</td>\n",
       "      <td>273.8800</td>\n",
       "      <td>262.2400</td>\n",
       "    </tr>\n",
       "    <tr>\n",
       "      <th>1</th>\n",
       "      <td>2018/10/15</td>\n",
       "      <td>259.59</td>\n",
       "      <td>6189026.0000</td>\n",
       "      <td>259.06</td>\n",
       "      <td>263.2800</td>\n",
       "      <td>254.5367</td>\n",
       "    </tr>\n",
       "    <tr>\n",
       "      <th>2</th>\n",
       "      <td>2018/10/12</td>\n",
       "      <td>258.78</td>\n",
       "      <td>7189257.0000</td>\n",
       "      <td>261.00</td>\n",
       "      <td>261.9900</td>\n",
       "      <td>252.0100</td>\n",
       "    </tr>\n",
       "    <tr>\n",
       "      <th>3</th>\n",
       "      <td>2018/10/11</td>\n",
       "      <td>252.23</td>\n",
       "      <td>8128184.0000</td>\n",
       "      <td>257.53</td>\n",
       "      <td>262.2500</td>\n",
       "      <td>249.0300</td>\n",
       "    </tr>\n",
       "    <tr>\n",
       "      <th>4</th>\n",
       "      <td>2018/10/10</td>\n",
       "      <td>256.88</td>\n",
       "      <td>12781560.0000</td>\n",
       "      <td>264.61</td>\n",
       "      <td>265.5100</td>\n",
       "      <td>247.7700</td>\n",
       "    </tr>\n",
       "    <tr>\n",
       "      <th>...</th>\n",
       "      <td>...</td>\n",
       "      <td>...</td>\n",
       "      <td>...</td>\n",
       "      <td>...</td>\n",
       "      <td>...</td>\n",
       "      <td>...</td>\n",
       "    </tr>\n",
       "    <tr>\n",
       "      <th>752</th>\n",
       "      <td>2015/10/21</td>\n",
       "      <td>210.09</td>\n",
       "      <td>4177956.0000</td>\n",
       "      <td>211.99</td>\n",
       "      <td>214.8100</td>\n",
       "      <td>208.8000</td>\n",
       "    </tr>\n",
       "    <tr>\n",
       "      <th>753</th>\n",
       "      <td>2015/10/20</td>\n",
       "      <td>213.03</td>\n",
       "      <td>14877020.0000</td>\n",
       "      <td>227.72</td>\n",
       "      <td>228.6000</td>\n",
       "      <td>202.0000</td>\n",
       "    </tr>\n",
       "    <tr>\n",
       "      <th>754</th>\n",
       "      <td>2015/10/19</td>\n",
       "      <td>228.10</td>\n",
       "      <td>2506836.0000</td>\n",
       "      <td>226.50</td>\n",
       "      <td>231.1500</td>\n",
       "      <td>224.9400</td>\n",
       "    </tr>\n",
       "    <tr>\n",
       "      <th>755</th>\n",
       "      <td>2015/10/16</td>\n",
       "      <td>227.01</td>\n",
       "      <td>4327574.0000</td>\n",
       "      <td>223.04</td>\n",
       "      <td>230.4805</td>\n",
       "      <td>222.8700</td>\n",
       "    </tr>\n",
       "    <tr>\n",
       "      <th>756</th>\n",
       "      <td>2015/10/15</td>\n",
       "      <td>221.31</td>\n",
       "      <td>2835920.0000</td>\n",
       "      <td>216.43</td>\n",
       "      <td>221.7300</td>\n",
       "      <td>213.7000</td>\n",
       "    </tr>\n",
       "  </tbody>\n",
       "</table>\n",
       "<p>757 rows × 6 columns</p>\n",
       "</div>"
      ],
      "text/plain": [
       "           date   close         volume    open      high       low\n",
       "0         11:34  270.49      4,787,699  264.50  273.8800  262.2400\n",
       "1    2018/10/15  259.59   6189026.0000  259.06  263.2800  254.5367\n",
       "2    2018/10/12  258.78   7189257.0000  261.00  261.9900  252.0100\n",
       "3    2018/10/11  252.23   8128184.0000  257.53  262.2500  249.0300\n",
       "4    2018/10/10  256.88  12781560.0000  264.61  265.5100  247.7700\n",
       "..          ...     ...            ...     ...       ...       ...\n",
       "752  2015/10/21  210.09   4177956.0000  211.99  214.8100  208.8000\n",
       "753  2015/10/20  213.03  14877020.0000  227.72  228.6000  202.0000\n",
       "754  2015/10/19  228.10   2506836.0000  226.50  231.1500  224.9400\n",
       "755  2015/10/16  227.01   4327574.0000  223.04  230.4805  222.8700\n",
       "756  2015/10/15  221.31   2835920.0000  216.43  221.7300  213.7000\n",
       "\n",
       "[757 rows x 6 columns]"
      ]
     },
     "execution_count": 6,
     "metadata": {},
     "output_type": "execute_result"
    }
   ],
   "source": [
    "data"
   ]
  },
  {
   "cell_type": "code",
   "execution_count": 7,
   "id": "f5ac8364",
   "metadata": {},
   "outputs": [
    {
     "data": {
      "text/html": [
       "<div>\n",
       "<style scoped>\n",
       "    .dataframe tbody tr th:only-of-type {\n",
       "        vertical-align: middle;\n",
       "    }\n",
       "\n",
       "    .dataframe tbody tr th {\n",
       "        vertical-align: top;\n",
       "    }\n",
       "\n",
       "    .dataframe thead th {\n",
       "        text-align: right;\n",
       "    }\n",
       "</style>\n",
       "<table border=\"1\" class=\"dataframe\">\n",
       "  <thead>\n",
       "    <tr style=\"text-align: right;\">\n",
       "      <th></th>\n",
       "      <th>date</th>\n",
       "      <th>close</th>\n",
       "      <th>volume</th>\n",
       "      <th>open</th>\n",
       "      <th>high</th>\n",
       "      <th>low</th>\n",
       "    </tr>\n",
       "  </thead>\n",
       "  <tbody>\n",
       "    <tr>\n",
       "      <th>0</th>\n",
       "      <td>11:34</td>\n",
       "      <td>270.49</td>\n",
       "      <td>4,787,699</td>\n",
       "      <td>264.50</td>\n",
       "      <td>273.8800</td>\n",
       "      <td>262.2400</td>\n",
       "    </tr>\n",
       "    <tr>\n",
       "      <th>1</th>\n",
       "      <td>2018/10/15</td>\n",
       "      <td>259.59</td>\n",
       "      <td>6189026.0000</td>\n",
       "      <td>259.06</td>\n",
       "      <td>263.2800</td>\n",
       "      <td>254.5367</td>\n",
       "    </tr>\n",
       "    <tr>\n",
       "      <th>2</th>\n",
       "      <td>2018/10/12</td>\n",
       "      <td>258.78</td>\n",
       "      <td>7189257.0000</td>\n",
       "      <td>261.00</td>\n",
       "      <td>261.9900</td>\n",
       "      <td>252.0100</td>\n",
       "    </tr>\n",
       "    <tr>\n",
       "      <th>3</th>\n",
       "      <td>2018/10/11</td>\n",
       "      <td>252.23</td>\n",
       "      <td>8128184.0000</td>\n",
       "      <td>257.53</td>\n",
       "      <td>262.2500</td>\n",
       "      <td>249.0300</td>\n",
       "    </tr>\n",
       "    <tr>\n",
       "      <th>4</th>\n",
       "      <td>2018/10/10</td>\n",
       "      <td>256.88</td>\n",
       "      <td>12781560.0000</td>\n",
       "      <td>264.61</td>\n",
       "      <td>265.5100</td>\n",
       "      <td>247.7700</td>\n",
       "    </tr>\n",
       "    <tr>\n",
       "      <th>5</th>\n",
       "      <td>2018/10/09</td>\n",
       "      <td>262.80</td>\n",
       "      <td>12037780.0000</td>\n",
       "      <td>255.25</td>\n",
       "      <td>266.7700</td>\n",
       "      <td>253.3000</td>\n",
       "    </tr>\n",
       "    <tr>\n",
       "      <th>6</th>\n",
       "      <td>2018/10/08</td>\n",
       "      <td>250.56</td>\n",
       "      <td>13371180.0000</td>\n",
       "      <td>264.52</td>\n",
       "      <td>267.7599</td>\n",
       "      <td>249.0000</td>\n",
       "    </tr>\n",
       "    <tr>\n",
       "      <th>7</th>\n",
       "      <td>2018/10/05</td>\n",
       "      <td>261.95</td>\n",
       "      <td>17900710.0000</td>\n",
       "      <td>274.65</td>\n",
       "      <td>274.8800</td>\n",
       "      <td>260.0000</td>\n",
       "    </tr>\n",
       "    <tr>\n",
       "      <th>8</th>\n",
       "      <td>2018/10/04</td>\n",
       "      <td>281.83</td>\n",
       "      <td>9638885.0000</td>\n",
       "      <td>293.95</td>\n",
       "      <td>294.0000</td>\n",
       "      <td>277.6700</td>\n",
       "    </tr>\n",
       "    <tr>\n",
       "      <th>9</th>\n",
       "      <td>2018/10/03</td>\n",
       "      <td>294.80</td>\n",
       "      <td>7982272.0000</td>\n",
       "      <td>303.33</td>\n",
       "      <td>304.6000</td>\n",
       "      <td>291.5700</td>\n",
       "    </tr>\n",
       "  </tbody>\n",
       "</table>\n",
       "</div>"
      ],
      "text/plain": [
       "         date   close         volume    open      high       low\n",
       "0       11:34  270.49      4,787,699  264.50  273.8800  262.2400\n",
       "1  2018/10/15  259.59   6189026.0000  259.06  263.2800  254.5367\n",
       "2  2018/10/12  258.78   7189257.0000  261.00  261.9900  252.0100\n",
       "3  2018/10/11  252.23   8128184.0000  257.53  262.2500  249.0300\n",
       "4  2018/10/10  256.88  12781560.0000  264.61  265.5100  247.7700\n",
       "5  2018/10/09  262.80  12037780.0000  255.25  266.7700  253.3000\n",
       "6  2018/10/08  250.56  13371180.0000  264.52  267.7599  249.0000\n",
       "7  2018/10/05  261.95  17900710.0000  274.65  274.8800  260.0000\n",
       "8  2018/10/04  281.83   9638885.0000  293.95  294.0000  277.6700\n",
       "9  2018/10/03  294.80   7982272.0000  303.33  304.6000  291.5700"
      ]
     },
     "execution_count": 7,
     "metadata": {},
     "output_type": "execute_result"
    }
   ],
   "source": [
    "data.head(10)"
   ]
  },
  {
   "cell_type": "code",
   "execution_count": 8,
   "id": "06736a3d",
   "metadata": {},
   "outputs": [
    {
     "data": {
      "text/html": [
       "<div>\n",
       "<style scoped>\n",
       "    .dataframe tbody tr th:only-of-type {\n",
       "        vertical-align: middle;\n",
       "    }\n",
       "\n",
       "    .dataframe tbody tr th {\n",
       "        vertical-align: top;\n",
       "    }\n",
       "\n",
       "    .dataframe thead th {\n",
       "        text-align: right;\n",
       "    }\n",
       "</style>\n",
       "<table border=\"1\" class=\"dataframe\">\n",
       "  <thead>\n",
       "    <tr style=\"text-align: right;\">\n",
       "      <th></th>\n",
       "      <th>close</th>\n",
       "      <th>open</th>\n",
       "      <th>high</th>\n",
       "      <th>low</th>\n",
       "    </tr>\n",
       "  </thead>\n",
       "  <tbody>\n",
       "    <tr>\n",
       "      <th>count</th>\n",
       "      <td>757.000000</td>\n",
       "      <td>757.000000</td>\n",
       "      <td>757.000000</td>\n",
       "      <td>757.000000</td>\n",
       "    </tr>\n",
       "    <tr>\n",
       "      <th>mean</th>\n",
       "      <td>272.645614</td>\n",
       "      <td>272.760659</td>\n",
       "      <td>277.122776</td>\n",
       "      <td>268.017399</td>\n",
       "    </tr>\n",
       "    <tr>\n",
       "      <th>std</th>\n",
       "      <td>58.378585</td>\n",
       "      <td>58.449827</td>\n",
       "      <td>59.194761</td>\n",
       "      <td>57.515736</td>\n",
       "    </tr>\n",
       "    <tr>\n",
       "      <th>min</th>\n",
       "      <td>143.670000</td>\n",
       "      <td>142.320000</td>\n",
       "      <td>154.970000</td>\n",
       "      <td>141.050000</td>\n",
       "    </tr>\n",
       "    <tr>\n",
       "      <th>25%</th>\n",
       "      <td>219.560000</td>\n",
       "      <td>219.640000</td>\n",
       "      <td>222.569000</td>\n",
       "      <td>216.080000</td>\n",
       "    </tr>\n",
       "    <tr>\n",
       "      <th>50%</th>\n",
       "      <td>277.450000</td>\n",
       "      <td>277.625000</td>\n",
       "      <td>280.789900</td>\n",
       "      <td>273.550000</td>\n",
       "    </tr>\n",
       "    <tr>\n",
       "      <th>75%</th>\n",
       "      <td>322.690000</td>\n",
       "      <td>321.560000</td>\n",
       "      <td>327.120000</td>\n",
       "      <td>316.560100</td>\n",
       "    </tr>\n",
       "    <tr>\n",
       "      <th>max</th>\n",
       "      <td>385.000000</td>\n",
       "      <td>386.690000</td>\n",
       "      <td>389.610000</td>\n",
       "      <td>379.345000</td>\n",
       "    </tr>\n",
       "  </tbody>\n",
       "</table>\n",
       "</div>"
      ],
      "text/plain": [
       "            close        open        high         low\n",
       "count  757.000000  757.000000  757.000000  757.000000\n",
       "mean   272.645614  272.760659  277.122776  268.017399\n",
       "std     58.378585   58.449827   59.194761   57.515736\n",
       "min    143.670000  142.320000  154.970000  141.050000\n",
       "25%    219.560000  219.640000  222.569000  216.080000\n",
       "50%    277.450000  277.625000  280.789900  273.550000\n",
       "75%    322.690000  321.560000  327.120000  316.560100\n",
       "max    385.000000  386.690000  389.610000  379.345000"
      ]
     },
     "execution_count": 8,
     "metadata": {},
     "output_type": "execute_result"
    }
   ],
   "source": [
    "data.describe()"
   ]
  },
  {
   "cell_type": "code",
   "execution_count": 9,
   "id": "510c3880",
   "metadata": {},
   "outputs": [
    {
     "data": {
      "text/plain": [
       "[<matplotlib.lines.Line2D at 0x22a05280250>]"
      ]
     },
     "execution_count": 9,
     "metadata": {},
     "output_type": "execute_result"
    },
    {
     "data": {
      "image/png": "[encoded data removed]",
      "text/plain": [
       "<Figure size 1600x800 with 1 Axes>"
      ]
     },
     "metadata": {},
     "output_type": "display_data"
    }
   ],
   "source": [
    "plt.figure(figsize=(16,8))\n",
    "plt.plot(data['close'],label='Closing Price')"
   ]
  },
  {
   "cell_type": "code",
   "execution_count": 10,
   "id": "dd718209",
   "metadata": {},
   "outputs": [],
   "source": [
    "data['open-close']=data['open']-data['close']\n",
    "data['high-low']=data['high']-data['low']\n",
    "data=data.dropna()"
   ]
  },
  {
   "cell_type": "code",
   "execution_count": 11,
   "id": "a23e5a0d",
   "metadata": {},
   "outputs": [
    {
     "data": {
      "text/html": [
       "<div>\n",
       "<style scoped>\n",
       "    .dataframe tbody tr th:only-of-type {\n",
       "        vertical-align: middle;\n",
       "    }\n",
       "\n",
       "    .dataframe tbody tr th {\n",
       "        vertical-align: top;\n",
       "    }\n",
       "\n",
       "    .dataframe thead th {\n",
       "        text-align: right;\n",
       "    }\n",
       "</style>\n",
       "<table border=\"1\" class=\"dataframe\">\n",
       "  <thead>\n",
       "    <tr style=\"text-align: right;\">\n",
       "      <th></th>\n",
       "      <th>open-close</th>\n",
       "      <th>high-low</th>\n",
       "    </tr>\n",
       "  </thead>\n",
       "  <tbody>\n",
       "    <tr>\n",
       "      <th>0</th>\n",
       "      <td>-5.99</td>\n",
       "      <td>11.6400</td>\n",
       "    </tr>\n",
       "    <tr>\n",
       "      <th>1</th>\n",
       "      <td>-0.53</td>\n",
       "      <td>8.7433</td>\n",
       "    </tr>\n",
       "    <tr>\n",
       "      <th>2</th>\n",
       "      <td>2.22</td>\n",
       "      <td>9.9800</td>\n",
       "    </tr>\n",
       "    <tr>\n",
       "      <th>3</th>\n",
       "      <td>5.30</td>\n",
       "      <td>13.2200</td>\n",
       "    </tr>\n",
       "    <tr>\n",
       "      <th>4</th>\n",
       "      <td>7.73</td>\n",
       "      <td>17.7400</td>\n",
       "    </tr>\n",
       "  </tbody>\n",
       "</table>\n",
       "</div>"
      ],
      "text/plain": [
       "   open-close  high-low\n",
       "0       -5.99   11.6400\n",
       "1       -0.53    8.7433\n",
       "2        2.22    9.9800\n",
       "3        5.30   13.2200\n",
       "4        7.73   17.7400"
      ]
     },
     "execution_count": 11,
     "metadata": {},
     "output_type": "execute_result"
    }
   ],
   "source": [
    "'''A positive value in this column indicates that the stock opened higher than it closed, meaning the price decreased during the trading day.\n",
    "A negative value indicates that the stock closed higher than it opened, meaning the price increased during the trading day.\n",
    "indicating the volatility or price fluctuation within that trading day.\n",
    "A larger value suggests higher volatility, meaning the stock had a wider range of price movement.\n",
    "A smaller value suggests lower volatility, meaning the stock had a more stable price range'''\n",
    "x=data[['open-close','high-low']]\n",
    "x.head()"
   ]
  },
  {
   "cell_type": "code",
   "execution_count": 12,
   "id": "200214c5",
   "metadata": {},
   "outputs": [],
   "source": [
    "'''row now contains the closing price of the next trading day.This is a comparison operation.\n",
    "It checks whether the next day’s closing price is greater than the current day’s closing price.'''\n",
    "y=np.where(data['close'].shift(-1)>data['close'], 1, 0)"
   ]
  },
  {
   "cell_type": "code",
   "execution_count": 13,
   "id": "436ac882",
   "metadata": {},
   "outputs": [
    {
     "data": {
      "text/plain": [
       "array([0, 0, 0, 1, 1, 0, 1, 1, 1, 1, 1, 0, 1, 1, 0, 0, 0, 0, 1, 0, 1, 1,\n",
       "       0, 1, 0, 1, 0, 1, 0, 1, 1, 1, 1, 1, 1, 1, 0, 1, 1, 0, 0, 1, 1, 1,\n",
       "       1, 0, 0, 1, 1, 0, 1, 1, 0, 0, 0, 1, 1, 1, 0, 1, 1, 1, 1, 0, 0, 1,\n",
       "       0, 1, 1, 0, 0, 1, 1, 1, 1, 1, 0, 0, 0, 1, 1, 1, 0, 1, 0, 0, 0, 0,\n",
       "       0, 0, 0, 1, 0, 1, 0, 0, 1, 0, 0, 0, 1, 0, 1, 0, 1, 1, 0, 1, 1, 1,\n",
       "       1, 0, 1, 0, 0, 1, 0, 0, 1, 0, 0, 1, 0, 1, 1, 0, 0, 1, 1, 0, 1, 1,\n",
       "       0, 1, 1, 0, 0, 0, 1, 0, 1, 1, 0, 1, 1, 0, 1, 1, 1, 1, 1, 1, 0, 1,\n",
       "       1, 0, 1, 1, 0, 1, 1, 1, 0, 0, 0, 1, 1, 0, 0, 1, 0, 0, 1, 1, 0, 0,\n",
       "       1, 1, 1, 0, 1, 0, 0, 1, 1, 0, 0, 0, 1, 0, 0, 1, 0, 0, 1, 0, 0, 1,\n",
       "       1, 0, 1, 0, 1, 1, 1, 0, 1, 1, 1, 0, 1, 1, 0, 0, 0, 1, 0, 1, 1, 1,\n",
       "       0, 1, 0, 0, 0, 1, 0, 1, 0, 0, 0, 1, 0, 0, 1, 1, 0, 1, 0, 1, 1, 0,\n",
       "       1, 1, 0, 1, 0, 1, 1, 1, 0, 0, 1, 1, 0, 1, 0, 1, 0, 0, 0, 0, 0, 0,\n",
       "       1, 1, 0, 1, 1, 1, 1, 1, 0, 0, 0, 0, 1, 0, 1, 0, 1, 1, 1, 0, 0, 0,\n",
       "       1, 1, 0, 0, 0, 1, 1, 1, 0, 1, 0, 0, 1, 1, 0, 1, 0, 0, 0, 1, 1, 0,\n",
       "       1, 0, 1, 0, 1, 0, 1, 0, 1, 0, 1, 0, 0, 0, 0, 1, 1, 1, 0, 1, 0, 1,\n",
       "       1, 0, 0, 0, 0, 1, 1, 1, 0, 0, 0, 1, 0, 0, 0, 0, 1, 1, 0, 0, 0, 0,\n",
       "       0, 1, 1, 1, 0, 1, 0, 1, 0, 1, 0, 0, 1, 0, 1, 1, 1, 0, 0, 1, 1, 0,\n",
       "       0, 0, 1, 0, 1, 1, 0, 1, 1, 0, 0, 0, 1, 0, 0, 0, 0, 1, 0, 0, 0, 1,\n",
       "       0, 1, 0, 1, 0, 1, 0, 0, 1, 1, 1, 1, 1, 0, 0, 0, 0, 1, 0, 1, 1, 0,\n",
       "       0, 1, 1, 0, 0, 0, 0, 0, 1, 0, 1, 0, 1, 0, 1, 0, 1, 1, 0, 0, 0, 0,\n",
       "       0, 1, 0, 1, 1, 1, 0, 0, 1, 0, 0, 1, 1, 0, 0, 0, 0, 1, 0, 0, 0, 1,\n",
       "       0, 0, 0, 1, 1, 0, 1, 0, 1, 1, 1, 1, 1, 0, 0, 0, 1, 1, 0, 0, 0, 1,\n",
       "       0, 1, 1, 0, 0, 0, 1, 1, 1, 1, 1, 0, 1, 1, 0, 0, 1, 0, 0, 1, 1, 1,\n",
       "       0, 1, 0, 1, 1, 1, 1, 0, 0, 1, 0, 1, 0, 0, 0, 0, 1, 0, 0, 0, 0, 1,\n",
       "       0, 1, 1, 1, 0, 1, 1, 0, 1, 1, 1, 1, 1, 0, 1, 0, 0, 1, 1, 1, 0, 1,\n",
       "       1, 0, 1, 1, 0, 1, 1, 1, 0, 0, 1, 1, 0, 0, 1, 0, 1, 0, 1, 1, 1, 1,\n",
       "       0, 0, 0, 0, 1, 0, 0, 0, 0, 0, 1, 1, 1, 1, 0, 1, 0, 0, 1, 1, 1, 1,\n",
       "       0, 0, 0, 0, 1, 1, 0, 1, 0, 0, 0, 1, 0, 0, 0, 1, 0, 0, 1, 0, 1, 1,\n",
       "       0, 1, 1, 1, 0, 1, 1, 1, 0, 1, 0, 1, 0, 1, 1, 0, 1, 0, 1, 1, 1, 1,\n",
       "       0, 0, 0, 0, 0, 1, 1, 0, 0, 1, 1, 0, 0, 0, 0, 0, 0, 0, 1, 0, 1, 0,\n",
       "       0, 0, 0, 1, 0, 0, 0, 0, 1, 0, 1, 1, 0, 0, 0, 0, 1, 0, 1, 1, 0, 1,\n",
       "       1, 0, 0, 0, 1, 1, 1, 0, 0, 1, 1, 1, 0, 1, 0, 1, 1, 1, 1, 0, 1, 0,\n",
       "       0, 0, 1, 0, 1, 1, 0, 1, 1, 0, 0, 0, 1, 0, 1, 1, 0, 1, 0, 1, 0, 1,\n",
       "       0, 0, 0, 1, 1, 0, 0, 1, 0, 1, 1, 0, 1, 1, 0, 0, 0, 1, 0, 1, 1, 0,\n",
       "       1, 0, 1, 0, 1, 1, 0, 0, 0])"
      ]
     },
     "execution_count": 13,
     "metadata": {},
     "output_type": "execute_result"
    }
   ],
   "source": [
    "y\n",
    "#This operation is typically used in binary classification tasks where the goal is to predict whether the stock price will go up (1) or down (0) the next day. "
   ]
  },
  {
   "cell_type": "code",
   "execution_count": 14,
   "id": "e79fcb45",
   "metadata": {},
   "outputs": [
    {
     "name": "stdout",
     "output_type": "stream",
     "text": [
      "(567, 2) (567,)\n"
     ]
    }
   ],
   "source": [
    "from sklearn.model_selection import train_test_split \n",
    "X_train, X_test, Y_train, Y_test = train_test_split(x,y,test_size=0.25, random_state=2018) \n",
    "print(X_train.shape, Y_train.shape) "
   ]
  },
  {
   "cell_type": "code",
   "execution_count": 15,
   "id": "f102081d",
   "metadata": {},
   "outputs": [
    {
     "name": "stdout",
     "output_type": "stream",
     "text": [
      "Train_data Accuracy: 0.851852\n",
      "Test_data Accuracy: 0.789474\n"
     ]
    }
   ],
   "source": [
    "from sklearn.neighbors import KNeighborsClassifier\n",
    "from sklearn import neighbors\n",
    "from sklearn.model_selection import GridSearchCV\n",
    "from sklearn.metrics import accuracy_score\n",
    "\n",
    "#using gridsearch to find the best parameter\n",
    "params={'n_neighbors':[2,3,4,5,6,7,8,9,10,11,12,13,14,15]}\n",
    "knn=neighbors.KNeighborsClassifier()\n",
    "model=GridSearchCV(knn,params,cv=5)\n",
    "\n",
    "#fit the model\n",
    "model.fit(X_train, Y_train)\n",
    "\n",
    "#accuracy score\n",
    "accuracy_train = accuracy_score(Y_train, model.predict(X_train))\n",
    "accuracy_test = accuracy_score(Y_test, model.predict(X_test))\n",
    "\n",
    "print('Train_data Accuracy: %2f' %accuracy_train)\n",
    "print('Test_data Accuracy: %2f' %accuracy_test)"
   ]
  },
  {
   "cell_type": "code",
   "execution_count": 16,
   "id": "867d0858",
   "metadata": {},
   "outputs": [],
   "source": [
    "predictions_classification=model.predict(X_test)"
   ]
  },
  {
   "cell_type": "code",
   "execution_count": 17,
   "id": "69fdf848",
   "metadata": {},
   "outputs": [],
   "source": [
    "Actual_predicted_data=pd.DataFrame({'Actual class': Y_test ,'Predicted class':predictions_classification})\n",
    "                           "
   ]
  },
  {
   "cell_type": "code",
   "execution_count": 18,
   "id": "d13d0b56",
   "metadata": {},
   "outputs": [
    {
     "data": {
      "text/html": [
       "<div>\n",
       "<style scoped>\n",
       "    .dataframe tbody tr th:only-of-type {\n",
       "        vertical-align: middle;\n",
       "    }\n",
       "\n",
       "    .dataframe tbody tr th {\n",
       "        vertical-align: top;\n",
       "    }\n",
       "\n",
       "    .dataframe thead th {\n",
       "        text-align: right;\n",
       "    }\n",
       "</style>\n",
       "<table border=\"1\" class=\"dataframe\">\n",
       "  <thead>\n",
       "    <tr style=\"text-align: right;\">\n",
       "      <th></th>\n",
       "      <th>Actual class</th>\n",
       "      <th>Predicted class</th>\n",
       "    </tr>\n",
       "  </thead>\n",
       "  <tbody>\n",
       "    <tr>\n",
       "      <th>0</th>\n",
       "      <td>1</td>\n",
       "      <td>1</td>\n",
       "    </tr>\n",
       "    <tr>\n",
       "      <th>1</th>\n",
       "      <td>1</td>\n",
       "      <td>1</td>\n",
       "    </tr>\n",
       "    <tr>\n",
       "      <th>2</th>\n",
       "      <td>1</td>\n",
       "      <td>1</td>\n",
       "    </tr>\n",
       "    <tr>\n",
       "      <th>3</th>\n",
       "      <td>0</td>\n",
       "      <td>0</td>\n",
       "    </tr>\n",
       "    <tr>\n",
       "      <th>4</th>\n",
       "      <td>0</td>\n",
       "      <td>0</td>\n",
       "    </tr>\n",
       "    <tr>\n",
       "      <th>5</th>\n",
       "      <td>1</td>\n",
       "      <td>0</td>\n",
       "    </tr>\n",
       "    <tr>\n",
       "      <th>6</th>\n",
       "      <td>0</td>\n",
       "      <td>0</td>\n",
       "    </tr>\n",
       "    <tr>\n",
       "      <th>7</th>\n",
       "      <td>0</td>\n",
       "      <td>1</td>\n",
       "    </tr>\n",
       "    <tr>\n",
       "      <th>8</th>\n",
       "      <td>1</td>\n",
       "      <td>1</td>\n",
       "    </tr>\n",
       "    <tr>\n",
       "      <th>9</th>\n",
       "      <td>1</td>\n",
       "      <td>0</td>\n",
       "    </tr>\n",
       "  </tbody>\n",
       "</table>\n",
       "</div>"
      ],
      "text/plain": [
       "   Actual class  Predicted class\n",
       "0             1                1\n",
       "1             1                1\n",
       "2             1                1\n",
       "3             0                0\n",
       "4             0                0\n",
       "5             1                0\n",
       "6             0                0\n",
       "7             0                1\n",
       "8             1                1\n",
       "9             1                0"
      ]
     },
     "execution_count": 18,
     "metadata": {},
     "output_type": "execute_result"
    }
   ],
   "source": [
    "Actual_predicted_data.head(10)"
   ]
  },
  {
   "cell_type": "code",
   "execution_count": 19,
   "id": "8c4838c6",
   "metadata": {},
   "outputs": [],
   "source": [
    "y=data['close']"
   ]
  },
  {
   "cell_type": "code",
   "execution_count": 20,
   "id": "9f9f62e5",
   "metadata": {},
   "outputs": [
    {
     "data": {
      "text/plain": [
       "0      270.49\n",
       "1      259.59\n",
       "2      258.78\n",
       "3      252.23\n",
       "4      256.88\n",
       "        ...  \n",
       "752    210.09\n",
       "753    213.03\n",
       "754    228.10\n",
       "755    227.01\n",
       "756    221.31\n",
       "Name: close, Length: 757, dtype: float64"
      ]
     },
     "execution_count": 20,
     "metadata": {},
     "output_type": "execute_result"
    }
   ],
   "source": [
    "y"
   ]
  },
  {
   "cell_type": "code",
   "execution_count": 21,
   "id": "080c480f",
   "metadata": {},
   "outputs": [],
   "source": [
    "#implementation of knn regression"
   ]
  },
  {
   "cell_type": "code",
   "execution_count": 22,
   "id": "ac649f41",
   "metadata": {},
   "outputs": [],
   "source": [
    "from sklearn.model_selection import GridSearchCV, train_test_split\n",
    "from sklearn.neighbors import KNeighborsRegressor\n",
    "\n",
    "# Split the data\n",
    "X_train_reg, X_test_reg, Y_train_reg, Y_test_reg = train_test_split(x, y, test_size=0.25)\n",
    "\n",
    "# Define the parameter grid\n",
    "params = {'n_neighbors': [2, 3, 4, 5, 6, 7, 8, 9, 10, 11, 12, 13, 14, 15]}\n",
    "\n",
    "# Initialize the KNeighborsRegressor\n",
    "knn_reg = KNeighborsRegressor()\n",
    "\n",
    "# Initialize GridSearchCV with the model and parameters\n",
    "model_reg = GridSearchCV(knn_reg, params, cv=5)\n",
    "\n",
    "# Fit the model\n",
    "model_reg.fit(X_train_reg, Y_train_reg)\n",
    "\n",
    "# Make predictions\n",
    "predictions = model_reg.predict(X_test_reg)\n"
   ]
  },
  {
   "cell_type": "raw",
   "id": "b2217197",
   "metadata": {},
   "source": []
  },
  {
   "cell_type": "code",
   "execution_count": 23,
   "id": "4e5b8179",
   "metadata": {},
   "outputs": [
    {
     "name": "stdout",
     "output_type": "stream",
     "text": [
      "[296.856      275.282      279.07666667 259.976      245.99466667\n",
      " 241.97666667 265.63466667 256.94066667 222.13933333 309.72933333\n",
      " 306.58533333 262.732      291.008      307.56066667 307.37266667\n",
      " 310.32133333 265.62733333 252.89333333 264.35733333 307.58866667\n",
      " 273.998      308.88333333 216.258      241.838      261.02933333\n",
      " 248.33866667 310.32133333 245.35266667 268.08733333 284.938\n",
      " 284.98533333 263.77       293.35933333 255.154      311.08666667\n",
      " 248.51333333 281.69066667 288.01733333 270.094      316.28066667\n",
      " 322.864      234.516      221.304      288.82733333 239.95066667\n",
      " 247.89333333 215.75666667 308.99333333 255.554      257.828\n",
      " 289.24733333 320.44       262.642      263.91266667 263.65866667\n",
      " 258.70866667 315.82266667 261.91533333 281.39266667 305.79066667\n",
      " 228.87933333 264.16266667 248.346      264.73       238.93133333\n",
      " 294.46533333 263.16266667 243.272      301.692      280.29\n",
      " 296.53066667 271.99333333 287.442      292.08133333 295.62366667\n",
      " 308.71       250.54       263.41733333 316.288      222.13933333\n",
      " 314.71133333 284.69066667 249.12266667 267.51133333 267.5\n",
      " 259.576      291.28866667 281.99733333 293.72066667 279.95733333\n",
      " 296.95466667 264.16266667 271.81733333 323.072      297.33\n",
      " 296.46333333 312.92533333 290.87066667 286.71333333 312.65266667\n",
      " 256.15266667 262.838      241.666      223.27133333 292.765\n",
      " 289.27133333 292.765      260.39066667 244.35533333 298.26933333\n",
      " 225.774      293.58066667 310.24266667 221.16333333 287.29\n",
      " 247.51733333 269.20333333 296.942      221.77266667 279.582\n",
      " 291.11666667 312.14933333 257.32666667 248.07333333 282.11866667\n",
      " 275.23533333 261.882      316.21866667 265.42466667 321.34733333\n",
      " 257.636      261.11066667 309.67       260.75533333 288.82866667\n",
      " 243.688      276.73266667 307.96066667 246.28666667 240.32133333\n",
      " 297.414      302.30133333 268.67533333 291.27266667 318.70333333\n",
      " 304.10933333 233.32       255.96       296.864      296.13066667\n",
      " 275.856      311.455      246.86333333 282.72466667 303.324\n",
      " 306.05133333 251.61333333 328.664      313.07233333 293.83266667\n",
      " 269.07066667 231.182      260.088      265.72066667 287.416\n",
      " 244.574      311.84       216.82266667 280.55933333 295.914\n",
      " 240.914      314.11866667 283.74333333 269.576      323.474\n",
      " 240.31066667 257.17133333 285.33066667 292.69533333 290.62333333\n",
      " 297.97266667 311.417      242.012      259.296      250.99866667\n",
      " 321.34733333 310.32466667 283.36333333 251.18466667 281.36      ]\n"
     ]
    }
   ],
   "source": [
    "print(predictions)"
   ]
  },
  {
   "cell_type": "code",
   "execution_count": 24,
   "id": "a32ed3ff",
   "metadata": {},
   "outputs": [
    {
     "data": {
      "text/plain": [
       "277.0366587134073"
      ]
     },
     "execution_count": 24,
     "metadata": {},
     "output_type": "execute_result"
    }
   ],
   "source": [
    "rms=np.sqrt(np.mean(np.power((np.array(Y_test)-np.array(predictions)),2)))\n",
    "rms"
   ]
  },
  {
   "cell_type": "markdown",
   "id": "d9068e8f",
   "metadata": {},
   "source": []
  },
  {
   "cell_type": "code",
   "execution_count": 25,
   "id": "131203a1",
   "metadata": {},
   "outputs": [],
   "source": [
    "valid=pd.DataFrame({'Actual Close':Y_test_reg,'Predicted Close value':predictions})"
   ]
  },
  {
   "cell_type": "code",
   "execution_count": 26,
   "id": "972533f9",
   "metadata": {},
   "outputs": [
    {
     "data": {
      "text/html": [
       "<div>\n",
       "<style scoped>\n",
       "    .dataframe tbody tr th:only-of-type {\n",
       "        vertical-align: middle;\n",
       "    }\n",
       "\n",
       "    .dataframe tbody tr th {\n",
       "        vertical-align: top;\n",
       "    }\n",
       "\n",
       "    .dataframe thead th {\n",
       "        text-align: right;\n",
       "    }\n",
       "</style>\n",
       "<table border=\"1\" class=\"dataframe\">\n",
       "  <thead>\n",
       "    <tr style=\"text-align: right;\">\n",
       "      <th></th>\n",
       "      <th>Actual Close</th>\n",
       "      <th>Predicted Close value</th>\n",
       "    </tr>\n",
       "  </thead>\n",
       "  <tbody>\n",
       "    <tr>\n",
       "      <th>501</th>\n",
       "      <td>203.56</td>\n",
       "      <td>296.856000</td>\n",
       "    </tr>\n",
       "    <tr>\n",
       "      <th>104</th>\n",
       "      <td>276.82</td>\n",
       "      <td>275.282000</td>\n",
       "    </tr>\n",
       "    <tr>\n",
       "      <th>584</th>\n",
       "      <td>196.66</td>\n",
       "      <td>279.076667</td>\n",
       "    </tr>\n",
       "    <tr>\n",
       "      <th>278</th>\n",
       "      <td>343.40</td>\n",
       "      <td>259.976000</td>\n",
       "    </tr>\n",
       "    <tr>\n",
       "      <th>580</th>\n",
       "      <td>201.79</td>\n",
       "      <td>245.994667</td>\n",
       "    </tr>\n",
       "    <tr>\n",
       "      <th>717</th>\n",
       "      <td>227.07</td>\n",
       "      <td>241.976667</td>\n",
       "    </tr>\n",
       "    <tr>\n",
       "      <th>201</th>\n",
       "      <td>315.36</td>\n",
       "      <td>265.634667</td>\n",
       "    </tr>\n",
       "    <tr>\n",
       "      <th>248</th>\n",
       "      <td>345.10</td>\n",
       "      <td>256.940667</td>\n",
       "    </tr>\n",
       "    <tr>\n",
       "      <th>465</th>\n",
       "      <td>192.18</td>\n",
       "      <td>222.139333</td>\n",
       "    </tr>\n",
       "    <tr>\n",
       "      <th>23</th>\n",
       "      <td>289.46</td>\n",
       "      <td>309.729333</td>\n",
       "    </tr>\n",
       "  </tbody>\n",
       "</table>\n",
       "</div>"
      ],
      "text/plain": [
       "     Actual Close  Predicted Close value\n",
       "501        203.56             296.856000\n",
       "104        276.82             275.282000\n",
       "584        196.66             279.076667\n",
       "278        343.40             259.976000\n",
       "580        201.79             245.994667\n",
       "717        227.07             241.976667\n",
       "201        315.36             265.634667\n",
       "248        345.10             256.940667\n",
       "465        192.18             222.139333\n",
       "23         289.46             309.729333"
      ]
     },
     "execution_count": 26,
     "metadata": {},
     "output_type": "execute_result"
    }
   ],
   "source": [
    "valid.head(10)"
   ]
  },
  {
   "cell_type": "code",
   "execution_count": null,
   "id": "843a6c4f",
   "metadata": {},
   "outputs": [],
   "source": []
  },
  {
   "cell_type": "code",
   "execution_count": null,
   "id": "98720b41",
   "metadata": {},
   "outputs": [],
   "source": []
  },
  {
   "cell_type": "code",
   "execution_count": null,
   "id": "37a622d8",
   "metadata": {},
   "outputs": [],
   "source": []
  },
  {
   "cell_type": "code",
   "execution_count": null,
   "id": "698905fc",
   "metadata": {},
   "outputs": [],
   "source": []
  },
  {
   "cell_type": "code",
   "execution_count": null,
   "id": "5600df26",
   "metadata": {},
   "outputs": [],
   "source": []
  },
  {
   "cell_type": "code",
   "execution_count": null,
   "id": "fc528e37",
   "metadata": {},
   "outputs": [],
   "source": []
  },
  {
   "cell_type": "code",
   "execution_count": null,
   "id": "c991aca3",
   "metadata": {},
   "outputs": [],
   "source": []
  }
 ],
 "metadata": {
  "kernelspec": {
   "display_name": "Python 3 (ipykernel)",
   "language": "python",
   "name": "python3"
  },
  "language_info": {
   "codemirror_mode": {
    "name": "ipython",
    "version": 3
   },
   "file_extension": ".py",
   "mimetype": "text/x-python",
   "name": "python",
   "nbconvert_exporter": "python",
   "pygments_lexer": "ipython3",
   "version": "3.10.9"
  }
 },
 "nbformat": 4,
 "nbformat_minor": 5
}
